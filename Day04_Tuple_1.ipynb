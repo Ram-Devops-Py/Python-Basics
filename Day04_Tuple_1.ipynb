{
 "cells": [
  {
   "cell_type": "code",
   "execution_count": 1,
   "metadata": {},
   "outputs": [
    {
     "name": "stdout",
     "output_type": "stream",
     "text": [
      "('Jobserve', 'CW jObs', 'Reed', 'Indeed', 'Universal JobMatch', 'NHS Jobs', 'Monster', 'Fish4jobs')\n"
     ]
    }
   ],
   "source": [
    "#Tuple # A tuple is a collection which is ordered and unchangeable. In Python tuples are written with round brackets.\n",
    "\n",
    "#Create a Tuple\n",
    "\n",
    "jobsites = ('Jobserve','CW jObs','Reed','Indeed','Universal JobMatch','NHS Jobs','Monster','Fish4jobs')\n",
    "\n",
    "print(jobsites)"
   ]
  },
  {
   "cell_type": "code",
   "execution_count": 4,
   "metadata": {},
   "outputs": [
    {
     "name": "stdout",
     "output_type": "stream",
     "text": [
      "Indeed\n",
      "('Jobserve', 'CW jObs', 'Reed')\n"
     ]
    }
   ],
   "source": [
    "# Access tuple items: \n",
    "#You can access tuple items by referring to the index number, inside square brackets:\n",
    "\n",
    "print(jobsites[3])\n",
    "\n",
    "#Range of Indexes \n",
    "\n",
    "print(jobsites[0:3])"
   ]
  },
  {
   "cell_type": "code",
   "execution_count": 8,
   "metadata": {},
   "outputs": [
    {
     "name": "stdout",
     "output_type": "stream",
     "text": [
      "Fish4jobs\n",
      "('Universal JobMatch', 'NHS Jobs', 'Monster')\n"
     ]
    }
   ],
   "source": [
    "#Negative Indexing\n",
    "\n",
    "print(jobsites[-1])\n",
    "\n",
    "#Range of Negative Indexes\n",
    "\n",
    "print(jobsites[-4:-1])"
   ]
  },
  {
   "cell_type": "code",
   "execution_count": 11,
   "metadata": {},
   "outputs": [
    {
     "name": "stdout",
     "output_type": "stream",
     "text": [
      "('Jobserve', 'CV-Library', 'Total jobs', 'Jobsite', 'Indeed', 'Universal JobMatch', 'NHS Jobs', 'Monster', 'Fish4jobs')\n"
     ]
    }
   ],
   "source": [
    "#Change Tuple Values\n",
    "#Once a tuple is created, we cannot change its values. Tuples are unchangeable, or immutable as it also is called.\n",
    "#But there is a workaround. we can convert the tuple into a list,change the list,and convert the list back to tuple.\n",
    "\n",
    "jobsites = ('Jobserve','CW jObs','Reed','Indeed','Universal JobMatch','NHS Jobs','Monster','Fish4jobs')\n",
    "\n",
    "newjobsites = list(jobsites)\n",
    "\n",
    "newjobsites[1:3] = 'CV-Library','Total jobs','Jobsite'\n",
    "\n",
    "jobsites = tuple(newjobsites)\n",
    "\n",
    "print(jobsites)\n"
   ]
  },
  {
   "cell_type": "code",
   "execution_count": 12,
   "metadata": {},
   "outputs": [
    {
     "name": "stdout",
     "output_type": "stream",
     "text": [
      "BP\n",
      "HSBC\n",
      "TESCO PLC\n",
      "Vodofone\n",
      "Lloyds Bank\n",
      "Aviva plc\n"
     ]
    }
   ],
   "source": [
    "# Now We can try loop through the tuple items by using a for loop.\n",
    "\n",
    "mnc = (\"BP\",\"HSBC\",\"TESCO PLC\",\"Vodofone\",\"Lloyds Bank\",\"Aviva plc\")\n",
    "\n",
    "for x in mnc:\n",
    "    print(x)"
   ]
  },
  {
   "cell_type": "code",
   "execution_count": 15,
   "metadata": {},
   "outputs": [
    {
     "name": "stdout",
     "output_type": "stream",
     "text": [
      "No, BNY Mellon is there in the items.\n"
     ]
    }
   ],
   "source": [
    "# Check the company 'BNY Mellon' in the existing tuple items:\n",
    "\n",
    "if 'BNY Mellon' in mnc:\n",
    "    print(\"Yes, BNY Mellon is there in the items.\")\n",
    "\n",
    "else:\n",
    "    print(\"No, BNY Mellon is there in the items.\")"
   ]
  },
  {
   "cell_type": "code",
   "execution_count": 19,
   "metadata": {},
   "outputs": [
    {
     "name": "stdout",
     "output_type": "stream",
     "text": [
      "bp\n",
      "hsbc\n",
      "tesco plc\n",
      "VODOFONE\n",
      "LLOYDS BANK\n",
      "AVIVA PLC\n"
     ]
    }
   ],
   "source": [
    "# When BP,HSBC,TESCO PLC companies comes up, modify with lower case letters\n",
    "# Reaming companies shoud be print in upper case.\n",
    "\n",
    "for x in mnc: \n",
    "    if x in ('BP','HSBC','TESCO PLC'):\n",
    "        print(x.lower())\n",
    "        \n",
    "    else:\n",
    "        print(x.upper())\n",
    "    "
   ]
  },
  {
   "cell_type": "code",
   "execution_count": 22,
   "metadata": {},
   "outputs": [
    {
     "name": "stdout",
     "output_type": "stream",
     "text": [
      "8\n"
     ]
    }
   ],
   "source": [
    "# Check Tuple length using len()\n",
    "\n",
    "jobsites = ('Jobserve','CW jObs','Reed','Indeed','Universal JobMatch','NHS Jobs','Monster','Fish4jobs')\n",
    "\n",
    "print(len(jobsites))"
   ]
  },
  {
   "cell_type": "code",
   "execution_count": 27,
   "metadata": {},
   "outputs": [
    {
     "name": "stdout",
     "output_type": "stream",
     "text": [
      "<class 'tuple'>\n",
      "<class 'str'>\n"
     ]
    }
   ],
   "source": [
    "#Create Tuple With One Item\n",
    "#To create a tuple with only one item, We have add a comma after the item \\n\n",
    "#Unless Python will not recognize the variable as a tuple.\n",
    "\n",
    "x = (\"Python\",)\n",
    "print(type(x))\n",
    "\n",
    "# If we didn't use comma it treat it as string.\n",
    "\n",
    "y = (\"Python\")\n",
    "print(type(y))"
   ]
  },
  {
   "cell_type": "code",
   "execution_count": null,
   "metadata": {},
   "outputs": [],
   "source": []
  }
 ],
 "metadata": {
  "kernelspec": {
   "display_name": "Python 3",
   "language": "python",
   "name": "python3"
  },
  "language_info": {
   "codemirror_mode": {
    "name": "ipython",
    "version": 3
   },
   "file_extension": ".py",
   "mimetype": "text/x-python",
   "name": "python",
   "nbconvert_exporter": "python",
   "pygments_lexer": "ipython3",
   "version": "3.7.3"
  }
 },
 "nbformat": 4,
 "nbformat_minor": 2
}
