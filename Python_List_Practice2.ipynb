{
 "cells": [
  {
   "cell_type": "code",
   "execution_count": 7,
   "metadata": {},
   "outputs": [
    {
     "name": "stdout",
     "output_type": "stream",
     "text": [
      "['Bently', 'Jaguar', 'MiniCooper', 'Peugeot', 'Tesla']\n"
     ]
    }
   ],
   "source": [
    "#Practice flie of Secord half of the Lists  \n",
    "#sort() - Sort the list values \n",
    "cars = ['Peugeot','Bently','Tesla','Jaguar','MiniCooper']\n",
    "\n",
    "cars.sort()\n",
    "\n",
    "print(cars)"
   ]
  },
  {
   "cell_type": "code",
   "execution_count": 21,
   "metadata": {},
   "outputs": [
    {
     "name": "stdout",
     "output_type": "stream",
     "text": [
      "\n",
      " Here is the sorted list:\n",
      "['Bently', 'Jaguar', 'MiniCooper', 'Peugeot', 'Tesla']\n",
      "\n",
      " Here is the actual list:\n",
      "['Peugeot', 'Bently', 'Tesla', 'Jaguar', 'MiniCooper']\n"
     ]
    }
   ],
   "source": [
    "#Make temparary changes in the list using Sorted ()\n",
    "\n",
    "cars_1 = ['Peugeot','Bently','Tesla','Jaguar','MiniCooper']\n",
    "\n",
    "print(\"\\n Here is the sorted list:\")\n",
    "print(sorted(cars_1))\n",
    "\n",
    "print(\"\\n Here is the actual list:\")\n",
    "print(cars_1)\n"
   ]
  },
  {
   "cell_type": "code",
   "execution_count": 22,
   "metadata": {},
   "outputs": [
    {
     "name": "stdout",
     "output_type": "stream",
     "text": [
      "['MiniCooper', 'Jaguar', 'Tesla', 'Bently', 'Peugeot']\n"
     ]
    }
   ],
   "source": [
    "#Reverse the list using reverse()\n",
    "\n",
    "cars.reverse()\n",
    "print(cars)"
   ]
  },
  {
   "cell_type": "code",
   "execution_count": 13,
   "metadata": {},
   "outputs": [
    {
     "name": "stdout",
     "output_type": "stream",
     "text": [
      "Peugeot\n",
      "Bently\n",
      "Tesla\n",
      "Jaguar\n",
      "MiniCooper\n"
     ]
    }
   ],
   "source": [
    "# Print list using loop by taking sort output as a input. \n",
    "for car in cars:\n",
    "    \n",
    "    print(car)"
   ]
  },
  {
   "cell_type": "code",
   "execution_count": 14,
   "metadata": {},
   "outputs": [
    {
     "name": "stdout",
     "output_type": "stream",
     "text": [
      "Peugeot\n",
      "Bently\n",
      "Tesla\n",
      "Jaguar\n",
      "MiniCooper\n"
     ]
    }
   ],
   "source": [
    "# Print given list using for loop\n",
    "\n",
    "cars = ['Peugeot','Bently','Tesla','Jaguar','MiniCooper']\n",
    "\n",
    "for x in cars:\n",
    "\n",
    "    print(x)"
   ]
  },
  {
   "cell_type": "code",
   "execution_count": 18,
   "metadata": {},
   "outputs": [
    {
     "name": "stdout",
     "output_type": "stream",
     "text": [
      "No, 'Honda' is not in the cars list\n"
     ]
    }
   ],
   "source": [
    "# Check if Honda car is exist in the list \n",
    "\n",
    "if 'Honda' in cars:\n",
    "    \n",
    "    print(\"Yes, 'Honda' is in the cars list\")\n",
    "\n",
    "else:\n",
    "\n",
    "    print(\"No, 'Honda' is not in the cars list\")"
   ]
  },
  {
   "cell_type": "code",
   "execution_count": 17,
   "metadata": {},
   "outputs": [
    {
     "name": "stdout",
     "output_type": "stream",
     "text": [
      "Yes, 'Tesla' is in the cars list\n"
     ]
    }
   ],
   "source": [
    "# Check if Tesla car is exist in the list \n",
    "\n",
    "if 'Tesla' in cars:\n",
    "\n",
    "    print(\"Yes, 'Tesla' is in the cars list\")\n",
    "\n",
    "else:\n",
    "    \n",
    "    print(\"No, 'Tesla' is not in the cars list\")"
   ]
  },
  {
   "cell_type": "code",
   "execution_count": 24,
   "metadata": {},
   "outputs": [
    {
     "name": "stdout",
     "output_type": "stream",
     "text": [
      "['MiniCooper', 'Jaguar', 'Tesla', 'Bently', 'Peugeot']\n"
     ]
    }
   ],
   "source": [
    "# Copy list using copy()\n",
    "\n",
    "UK_cars = cars.copy()\n",
    "print(UK_cars)"
   ]
  },
  {
   "cell_type": "code",
   "execution_count": 25,
   "metadata": {},
   "outputs": [
    {
     "name": "stdout",
     "output_type": "stream",
     "text": [
      "['MiniCooper', 'Jaguar', 'Tesla', 'Bently', 'Peugeot', 'Tata Motors', 'Maruthi', 'Mahendra&Mahendra']\n"
     ]
    }
   ],
   "source": [
    "#Add two lists \n",
    "\n",
    "Indian_cars = ['Tata Motors','Maruthi','Mahendra&Mahendra']\n",
    "merge_cars = UK_cars+Indian_cars\n",
    "print(merge_cars)"
   ]
  },
  {
   "cell_type": "code",
   "execution_count": null,
   "metadata": {},
   "outputs": [],
   "source": []
  }
 ],
 "metadata": {
  "kernelspec": {
   "display_name": "Python 3",
   "language": "python",
   "name": "python3"
  },
  "language_info": {
   "codemirror_mode": {
    "name": "ipython",
    "version": 3
   },
   "file_extension": ".py",
   "mimetype": "text/x-python",
   "name": "python",
   "nbconvert_exporter": "python",
   "pygments_lexer": "ipython3",
   "version": "3.7.3"
  }
 },
 "nbformat": 4,
 "nbformat_minor": 2
}
